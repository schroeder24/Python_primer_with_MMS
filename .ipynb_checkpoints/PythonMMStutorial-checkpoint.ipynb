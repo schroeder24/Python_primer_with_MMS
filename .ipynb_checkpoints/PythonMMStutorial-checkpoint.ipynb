{
 "cells": [
  {
   "cell_type": "code",
   "execution_count": null,
   "metadata": {},
   "outputs": [],
   "source": [
    "# Note -- most of this primer is in contrast with matlab code. Any reference to \"this instead of that\" is meaning \n",
    "# the difference between python syntax relative to matlab."
   ]
  },
  {
   "cell_type": "code",
   "execution_count": null,
   "metadata": {},
   "outputs": [],
   "source": [
    "# comments use pound symbol\n",
    "# use ctrl+/ to comment/uncomment a line or block of lines\n",
    " \n",
    "# unlike in matlab, in python packages must be imported. Here I import a few handy packages \n",
    "\n",
    "from matplotlib import pyplot as plt  # pyplot is the default visualization package in python\n",
    "\n",
    "import numpy as np                    # numpy deals with numerical operations \n",
    "                                      # (think sqrt, multiply (elementwise), divide (elementwise), etc.)\n",
    "\n",
    "import scipy as sp                    # scipy has a number of scientific computing functions, eg Gaussian quad int\n",
    "\n",
    "import heliopy as hp                  # heliopy is a heliosphysics package. \n",
    "                                      # I haven't used this much but supposedly it has MMS capabilities.\n",
    "\n",
    "import aidapy as aida                 # aidapy is a MMS specific package\n",
    "\n",
    "\n",
    "# some other useful stuff\n",
    "from datetime import datetime\n",
    "#AIDApy Modules\n",
    "from aidapy import load_data\n",
    "from IPython.display import Image"
   ]
  },
  {
   "cell_type": "code",
   "execution_count": null,
   "metadata": {},
   "outputs": [],
   "source": [
    "# In python functions are defined as follows -- this example does newton's root finding method for the function x^2-2\n",
    "\n",
    "def newton(xo):   # \"def\" is the keyword to make a function, which is followed by fcn_name(inputs): \n",
    "                                                                    ###!!! don't forget the colon ^\n",
    "    n=0\n",
    "    xk=xo\n",
    "    while abs(xk**2 - 2) > 1e-15:   # in python while/for/if statements initiate with a colon and have no \"end\"\n",
    "        xk=xk-(xk**2-2)/(2*xk)      # these code blocks must respect the same level of tab/spaces (not both)\n",
    "        \n",
    "        n+=1                        # python allows for n+=variable instead of matlab's n=n+variable syntax\n",
    "        if n>200:\n",
    "            print(\"Newton iterations did not converge in 200 iterations.\") # \"print\" instead of \"disp\" \n",
    "            return\n",
    "    return(xk)                      # python functions end with return(output) \n",
    "          \n",
    "newton(2)"
   ]
  },
  {
   "cell_type": "code",
   "execution_count": null,
   "metadata": {},
   "outputs": [],
   "source": [
    "# Similar to matlab, python has list objects specificed with brackets, i.e.\n",
    "\n",
    "tmp=[]\n",
    "for i in np.linspace(0,10,11):\n",
    "    tmp.append(i)\n",
    "print(tmp)\n",
    "\n",
    "tmp=[]\n",
    "for jj in range(1,11):    # python's build-in \"range\" function behaves like doing 1:10 in matlab, except the range is an range object, not an array\n",
    "    tmp.append(jj)\n",
    "display(tmp)"
   ]
  },
  {
   "cell_type": "code",
   "execution_count": null,
   "metadata": {},
   "outputs": [],
   "source": [
    "# Packages: to call a package, refer to the nicknames used in the first cell, and call the package using the \n",
    "# nickname followed by a period \".\" followed by the function. Refer to the examples below. \n",
    "# \n",
    "# Going back to arrays and basic numerical analysis, I prefer to use numpy \"nd-arrays\" most of the time. \n",
    "# Numpy is the most similar to working with native matlab.\n",
    "\n",
    "\n",
    "# a few useful numpy objects\n",
    "x = np.arange(1,11)              # this is most like doing, for example 1:10 in matlab\n",
    "\n",
    "display(x)                       # in python all lines are suppressed unless you choose to print/display a variable\n",
    "                                 # no need to toss ';' at the end of everything\n",
    "\n",
    "x=np.linspace(1,10,11)           # same at matlabs linspace\n",
    "print(x)\n",
    "\n",
    "\n",
    "# numpy contains a function for sqrt, exp, log, sin, cos, multiply, add, divide, subtract, etc. \n",
    "# this cheatsheet shows a lot of great numpy stuff, and also google is your friend \n",
    "# http://datacamp-community-prod.s3.amazonaws.com/da466534-51fe-4c6d-b0cb-154f4782eb54\n"
   ]
  },
  {
   "cell_type": "code",
   "execution_count": null,
   "metadata": {},
   "outputs": [],
   "source": [
    "# matplotlib has similar syntax to matlabs plotting routines\n",
    "%matplotlib inline\n",
    "\n",
    "x=np.linspace(0,6*np.pi)\n",
    "y=np.linspace(0,6*np.pi)\n",
    "[xm,ym]=np.meshgrid(x,y)\n",
    "\n",
    "fig, ax = plt.subplots()\n",
    "im = ax.pcolormesh( xm, ym, np.sin(xm)*np.cos(ym), cmap='inferno_r', shading='gouraud' )\n",
    "plt.colorbar(im).set_label(label='function value',size=16,weight='bold')\n",
    "plt.xlabel('x values',fontsize=18)\n",
    "plt.ylabel('x values',fontsize=18)\n",
    "plt.title('interpolated color plot of sin(x)*sin(y)',fontsize=18)\n",
    "\n",
    "\n",
    "fig1, ax1 = plt.subplots()\n",
    "im = ax1.contourf( xm, ym, np.sin(xm)*np.cos(ym), cmap='inferno_r')\n",
    "plt.colorbar(im).set_label(label='contour levels',size=16,weight='bold')\n",
    "plt.xlabel('x values',fontsize=18)\n",
    "plt.ylabel('x values',fontsize=18)\n",
    "plt.title('contours of sin(x)*sin(y)',fontsize=18)\n",
    "\n",
    "\n",
    "\n"
   ]
  },
  {
   "cell_type": "code",
   "execution_count": null,
   "metadata": {},
   "outputs": [],
   "source": [
    "%matplotlib widget # jupyter notebook files allow for interactive plots\n",
    "\n",
    "fig2, ax2 = plt.subplots(subplot_kw={\"projection\": \"3d\"})\n",
    "im = ax2.plot_surface( xm, ym, np.sin(xm)*np.cos(ym), cmap='inferno_r')\n",
    "plt.colorbar(im).set_label(label='function values',size=16,weight='bold')\n",
    "plt.xlabel('x values',fontsize=18)\n",
    "plt.ylabel('x values',fontsize=18)\n",
    "plt.title('3d surface plot sin(x)*sin(y)',fontsize=18)\n",
    "\n"
   ]
  },
  {
   "cell_type": "code",
   "execution_count": null,
   "metadata": {},
   "outputs": [],
   "source": [
    "# There is a lot more syntax details to learn, but let's try to dive headfirst by using MMS packages to look at \n",
    "# real data. \n",
    "\n",
    "# We can use several packages to download MMS data, I am still exploring options but now I see that\n",
    "# heliopy and aidapy both provide easy data download options. I think aidapy, which was developed \n",
    "# as mostly MMS specific code, uses routines from heliopy and sunpy, so let's start there. \n",
    "\n",
    "display(aida.get_mission_info(mission='mms'))\n",
    "\n",
    "display(aida.get_mission_info(mission='mms', product='magnetic field'))\n",
    "\n"
   ]
  },
  {
   "cell_type": "code",
   "execution_count": null,
   "metadata": {},
   "outputs": [],
   "source": [
    "###############################################################################\n",
    "# Define data parameters\n",
    "###############################################################################\n",
    "# Time Interval\n",
    "start_time = datetime(2017, 8, 10, 12, 18, 0) #2017,8,10,12,18,0\n",
    "end_time = datetime(2017, 8, 10, 12, 19, 0)\n",
    "\n",
    "# Dictionary of data settings: mission, product, probe, coordinates\n",
    "#settings = {'prod': ['dc_mag'], 'probes': ['1', '2'], 'coords': 'gse'}\n",
    "settings = {'prod': ['dc_mag'], 'probes': ['1','2','3','4'], 'coords': 'gse'}\n",
    "\n",
    "\n",
    "###############################################################################\n",
    "# Download and load desired data as aidapy timeseries\n",
    "###############################################################################\n",
    "xr_mms = load_data(mission='mms', start_time=start_time, end_time=end_time, **settings)\n"
   ]
  },
  {
   "cell_type": "code",
   "execution_count": null,
   "metadata": {},
   "outputs": [],
   "source": [
    "# Aidapy has some nice built-in plotting routines, however I am a novice at how to work them.\n",
    "\n",
    "%matplotlib widget\n",
    "fig=xr_mms['dc_mag1'].plot.line(x='time1')\n",
    "plt.gcf().set_size_inches(10, 5)"
   ]
  },
  {
   "cell_type": "code",
   "execution_count": null,
   "metadata": {},
   "outputs": [],
   "source": [
    "url_sdc = 'https://lasp.colorado.edu/mms/sdc/public/data/sdc/mms_orbit_plots/'\n",
    "url_sdc += 'mms_orbit_plot_{:4d}{:02d}{:02d}{:02d}0000.png'.format(start_time.year, start_time.month, start_time.day, start_time.hour)\n",
    "Image(url=url_sdc, embed=True)\n"
   ]
  },
  {
   "cell_type": "code",
   "execution_count": null,
   "metadata": {},
   "outputs": [],
   "source": [
    "# Let's take a look under the hood of the data object we just downloaded. \n",
    "\n",
    "xr_mms\n",
    "\n",
    "# The data is saved as an xarray.Dataset object. Not sure much about how these work, but in the next cell we will \n",
    "# extract raw data to an np array to allow for easy numerical analysis"
   ]
  },
  {
   "cell_type": "code",
   "execution_count": null,
   "metadata": {
    "scrolled": true
   },
   "outputs": [],
   "source": [
    "# let us extract some of this field data. \n",
    "print(np.shape(np.array(xr_mms['time1'])))\n",
    "print(np.shape(np.array(xr_mms['dc_mag1'][:,0])))  # double check dimensions\n",
    "\n",
    "times=np.zeros((960,4))\n",
    "Bx=np.zeros((960,4))\n",
    "By=np.zeros((960,4))\n",
    "Bz=np.zeros((960,4))\n",
    "Btot=np.zeros((960,4))\n",
    "\n",
    "tlabels=['time1','time2','time3','time4']\n",
    "blabels=['dc_mag1','dc_mag2','dc_mag3','dc_mag4']\n",
    "\n",
    "for i in np.arange(0,4):\n",
    "    times[:,i]=np.array(xr_mms[tlabels[i]]) # in python indexing arrays uses brackets, AND STARTS AT ZERO\n",
    "    Bx[:,i]=np.array(xr_mms[blabels[i]][:,0])\n",
    "    By[:,i]=np.array(xr_mms[blabels[i]][:,1])\n",
    "    Bz[:,i]=np.array(xr_mms[blabels[i]][:,2])\n",
    "    Btot[:,i]=np.array(xr_mms[blabels[i]][:,3])\n",
    "\n",
    "\n",
    "# dt=(times[2,1]-times[1,1]) \n",
    "# for i in np.arange(4):\n",
    "#     #print((times[1,i]-times[1,0]))\n",
    "#     print((times[1,i]-times[1,0])/dt)\n",
    "\n",
    "\n",
    "# now we have times and magnetic field data stored in \"ordinary\" numpy arrays -- I think this makes our lives \n",
    "# easier? or at least this is the array type with which I am most comfortable \n",
    "Btot"
   ]
  },
  {
   "cell_type": "code",
   "execution_count": null,
   "metadata": {},
   "outputs": [],
   "source": [
    "%matplotlib inline\n",
    "# now, for example, we can plot |B| for all 4 spacecraft vs time\n",
    "\n",
    "fig,ax=plt.subplots(figsize=(14,8))\n",
    "\n",
    "for i in np.arange(4):\n",
    "    ax.plot(np.arange(960),Bx[:,i])\n",
    "    \n",
    "plt.legend(['MMS1','MMS2','MMS3','MMS4'])\n",
    "plt.title('Bx for MMS1-4')\n",
    "\n",
    "\n",
    "# judging by this plot, it looks like Aidapy does the hard work \n",
    "# for us in making sure the times for each spacecraft are aligned with one another."
   ]
  },
  {
   "cell_type": "code",
   "execution_count": null,
   "metadata": {},
   "outputs": [],
   "source": []
  }
 ],
 "metadata": {
  "kernelspec": {
   "display_name": "Python 3",
   "language": "python",
   "name": "python3"
  },
  "language_info": {
   "codemirror_mode": {
    "name": "ipython",
    "version": 3
   },
   "file_extension": ".py",
   "mimetype": "text/x-python",
   "name": "python",
   "nbconvert_exporter": "python",
   "pygments_lexer": "ipython3",
   "version": "3.8.5"
  }
 },
 "nbformat": 4,
 "nbformat_minor": 4
}
