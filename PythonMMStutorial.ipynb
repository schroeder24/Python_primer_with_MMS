{
 "cells": [
  {
   "cell_type": "code",
   "execution_count": null,
   "metadata": {},
   "outputs": [],
   "source": [
    "# comments use pound symbol\n",
    "# use ctrl+/ to comment/uncomment a line or block of lines\n",
    " \n",
    "# unlike in matlab, in python packages must be imported. Here I import a few handy packages \n",
    "\n",
    "from matplotlib import pyplot as plt  # pyplot is the default visualization package in python\n",
    "\n",
    "import numpy as np                    # numpy deals with numerical operations \n",
    "                                      # (think sqrt, multiply (elementwise), divide (elementwise), etc.)\n",
    "\n",
    "import scipy as sp                    # scipy has a number of scientific computing functions, eg Gaussian quad int\n",
    "\n",
    "import heliopy as hp                  # heliopy is a heliosphysics package. \n",
    "                                      # I haven't used this much but supposedly it has MMS capabilities.\n",
    "\n",
    "import aidapy as aid                  # aidapy is a MMS specific package"
   ]
  },
  {
   "cell_type": "code",
   "execution_count": 1,
   "metadata": {},
   "outputs": [
    {
     "data": {
      "text/plain": [
       "1.4142135623730951"
      ]
     },
     "execution_count": 1,
     "metadata": {},
     "output_type": "execute_result"
    }
   ],
   "source": [
    "# In python functions are defined as follows -- this example does newton's root finding method for the function x^2-2\n",
    "\n",
    "def newton(xo):   # \"def\" is the keyword to make a function, which is followed by fcn_name(inputs): \n",
    "                                                                    ###!!! don't forget the colon ^\n",
    "    n=0\n",
    "    xk=xo\n",
    "    while abs(xk**2 - 2) > 1e-15:   # in python while/for/if statements initiate with a colon and have no \"end\"\n",
    "        xk=xk-(xk**2-2)/(2*xk)      # these code blocks must respect the same level of tab/spaces (not both)\n",
    "        \n",
    "        n+=1                        # python allows for n+=variable instead of matlab's n=n+variable syntax\n",
    "        if n>200:\n",
    "            print(\"Newton iterations did not converge in 200 iterations.\") # \"print\" instead of \"disp\" \n",
    "            return\n",
    "    return(xk)                      # python functions end with return(output) \n",
    "          \n",
    "newton(2)"
   ]
  },
  {
   "cell_type": "code",
   "execution_count": null,
   "metadata": {},
   "outputs": [],
   "source": [
    "# There is a lot more syntax details to learn, but let's try to dive headfirst by using MMS packages to look at \n",
    "# real data. \n",
    "\n"
   ]
  },
  {
   "cell_type": "code",
   "execution_count": null,
   "metadata": {},
   "outputs": [],
   "source": []
  },
  {
   "cell_type": "code",
   "execution_count": null,
   "metadata": {},
   "outputs": [],
   "source": []
  },
  {
   "cell_type": "code",
   "execution_count": null,
   "metadata": {},
   "outputs": [],
   "source": []
  },
  {
   "cell_type": "code",
   "execution_count": null,
   "metadata": {},
   "outputs": [],
   "source": []
  },
  {
   "cell_type": "code",
   "execution_count": null,
   "metadata": {},
   "outputs": [],
   "source": []
  },
  {
   "cell_type": "code",
   "execution_count": null,
   "metadata": {},
   "outputs": [],
   "source": []
  },
  {
   "cell_type": "code",
   "execution_count": null,
   "metadata": {},
   "outputs": [],
   "source": []
  },
  {
   "cell_type": "code",
   "execution_count": null,
   "metadata": {},
   "outputs": [],
   "source": []
  },
  {
   "cell_type": "code",
   "execution_count": null,
   "metadata": {},
   "outputs": [],
   "source": []
  },
  {
   "cell_type": "code",
   "execution_count": null,
   "metadata": {},
   "outputs": [],
   "source": []
  },
  {
   "cell_type": "code",
   "execution_count": 72,
   "metadata": {},
   "outputs": [
    {
     "name": "stdout",
     "output_type": "stream",
     "text": [
      "9.999999999999997e+29\n",
      "2.4999999999999993e+29\n",
      "6.249999999999998e+28\n",
      "1.5624999999999996e+28\n",
      "3.906249999999999e+27\n",
      "9.765624999999997e+26\n",
      "2.4414062499999994e+26\n",
      "6.103515624999998e+25\n",
      "1.5258789062499996e+25\n",
      "3.814697265624999e+24\n",
      "9.536743164062498e+23\n",
      "2.3841857910156244e+23\n",
      "5.960464477539061e+22\n",
      "1.4901161193847652e+22\n",
      "3.725290298461913e+21\n",
      "9.313225746154783e+20\n",
      "2.3283064365386957e+20\n",
      "5.820766091346739e+19\n",
      "1.4551915228366848e+19\n",
      "3.637978807091712e+18\n",
      "9.09494701772928e+17\n",
      "2.27373675443232e+17\n",
      "5.6843418860808e+16\n",
      "1.4210854715201998e+16\n",
      "3552713678800499.0\n",
      "888178419700124.1\n",
      "222044604925030.53\n",
      "55511151231257.13\n",
      "13877787807813.781\n",
      "3469446951952.946\n",
      "867361737987.7362\n",
      "216840434496.43408\n",
      "54210108623.60852\n",
      "13552527155.40213\n",
      "3388131788.350533\n",
      "847032946.5876331\n",
      "211758236.14690828\n",
      "52939558.536727086\n",
      "13234889.13418179\n",
      "3308721.7835455225\n",
      "827179.9458866827\n",
      "206794.48647287965\n",
      "51698.12162305557\n",
      "12924.030425106206\n",
      "3230.5076836398234\n",
      "807.1272302673025\n",
      "201.28304346640064\n",
      "49.82568011605131\n",
      "11.975715482497677\n",
      "2.5654815579449597\n",
      "0.36040533406065745\n",
      "0.013757383418965041\n",
      "2.3496574127701564e-05\n",
      "6.901013094307018e-11\n",
      "4.440892098500626e-16\n"
     ]
    },
    {
     "data": {
      "text/plain": [
       "1.4142135623730951"
      ]
     },
     "execution_count": 72,
     "metadata": {},
     "output_type": "execute_result"
    }
   ],
   "source": [
    "newton(1e-15)"
   ]
  },
  {
   "cell_type": "code",
   "execution_count": null,
   "metadata": {},
   "outputs": [],
   "source": []
  }
 ],
 "metadata": {
  "kernelspec": {
   "display_name": "Python 3",
   "language": "python",
   "name": "python3"
  },
  "language_info": {
   "codemirror_mode": {
    "name": "ipython",
    "version": 3
   },
   "file_extension": ".py",
   "mimetype": "text/x-python",
   "name": "python",
   "nbconvert_exporter": "python",
   "pygments_lexer": "ipython3",
   "version": "3.8.5"
  }
 },
 "nbformat": 4,
 "nbformat_minor": 4
}
